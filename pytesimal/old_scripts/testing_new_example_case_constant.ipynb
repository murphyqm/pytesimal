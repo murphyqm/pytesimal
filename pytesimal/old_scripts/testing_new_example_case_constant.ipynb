{
 "cells": [
  {
   "cell_type": "markdown",
   "source": [
    "# Constant material properties example\n",
    "\n",
    "This example reproduces the results when using constant material properties.\n",
    "\n",
    "Import the `conductive_cooling` function from the `modular_cond_cooling` module:"
   ],
   "metadata": {
    "collapsed": false
   }
  },
  {
   "cell_type": "code",
   "execution_count": null,
   "outputs": [],
   "source": [
    "from modular_cond_cooling import conductive_cooling"
   ],
   "metadata": {
    "collapsed": false,
    "pycharm": {
     "name": "#%%\n"
    }
   }
  },
  {
   "cell_type": "markdown",
   "source": [
    "Set a unique `run_ID` which will be appended to result files, and a `folder` path. This example is set to output results to the \"output_runs/example_cases\" file in the Pytesimal directory; this folder path can be changed to an absolute path to allow results to be saved elsewhere."
   ],
   "metadata": {
    "collapsed": false
   }
  },
  {
   "cell_type": "code",
   "execution_count": null,
   "outputs": [],
   "source": [
    "run_ID = \"example_constant\"\n",
    "folder = \"output_runs/example_cases\" #  to save outside the package directory please use absolute path"
   ],
   "metadata": {
    "collapsed": false,
    "pycharm": {
     "name": "#%%\n"
    }
   }
  },
  {
   "cell_type": "markdown",
   "source": [
    "Call the function. The default arguments for the planetesimal geometry and material properties will reproduce the results presented in Murphy Quinlan et al., (in prep). By default, material properties are set to constant. A report text file will not be saved (`save_param_file=\"n\"`) and the resulting temperatures through time and radius will be plotted (`plotting=\"temp\"`)."
   ],
   "metadata": {
    "collapsed": false
   }
  },
  {
   "cell_type": "code",
   "execution_count": null,
   "outputs": [],
   "source": [
    "conductive_cooling(\n",
    "    run_ID,\n",
    "    folder,\n",
    "    plotting=\"temp\",\n",
    "    save_param_file=\"n\",)\n"
   ],
   "metadata": {
    "collapsed": false,
    "pycharm": {
     "name": "#%%\n"
    }
   }
  },
  {
   "cell_type": "markdown",
   "source": [
    "The model will also print out some key results such as timing of core crystallisation and depth of the region of origin of the Esquel and Imilac meteorites. You also get an estimation of the run time in seconds."
   ],
   "metadata": {
    "collapsed": false
   }
  },
  {
   "cell_type": "code",
   "execution_count": null,
   "outputs": [],
   "source": [
    "\n",
    "\n",
    "\n"
   ],
   "metadata": {
    "collapsed": false,
    "pycharm": {
     "name": "#%%\n"
    }
   }
  }
 ],
 "metadata": {
  "kernelspec": {
   "display_name": "Python 3",
   "language": "python",
   "name": "python3"
  },
  "language_info": {
   "codemirror_mode": {
    "name": "ipython",
    "version": 2
   },
   "file_extension": ".py",
   "mimetype": "text/x-python",
   "name": "python",
   "nbconvert_exporter": "python",
   "pygments_lexer": "ipython2",
   "version": "2.7.6"
  }
 },
 "nbformat": 4,
 "nbformat_minor": 0
}