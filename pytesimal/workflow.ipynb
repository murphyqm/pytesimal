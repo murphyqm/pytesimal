{
 "cells": [
  {
   "cell_type": "code",
   "execution_count": 6,
   "metadata": {
    "collapsed": true,
    "pycharm": {
     "name": "#%%\n"
    }
   },
   "outputs": [
    {
     "name": "stdout",
     "output_type": "stream",
     "text": [
      "{'run_ID': 'example_default', 'folder': 'example_default', 'timestep': 100000000000.0, 'r_planet': 250000.0, 'core_size_factor': 0.5, 'reg_fraction': 0.032, 'max_time': 400, 'temp_core_melting': 1200.0, 'olivine_cp': 819.0, 'olivine_density': 3341.0, 'cmb_conductivity': 3.0, 'core_cp': 850.0, 'core_density': 7800.0, 'temp_init': 1600.0, 'temp_surface': 250.0, 'core_temp_init': 1600.0, 'core_latent_heat': 270000.0, 'kappa_reg': 5e-08, 'dr': 1000.0, 'reg_percent': 'y', 'cond_constant': 'y', 'density_constant': 'y', 'heat_cap_constant': 'y'}\n"
     ]
    }
   ],
   "source": [
    "import draft_mainmodule as mainmod\n",
    "import load_and_save_data as load"
   ]
  },
  {
   "cell_type": "code",
   "execution_count": 7,
   "outputs": [],
   "source": [
    "data = load.load_params_from_file()"
   ],
   "metadata": {
    "collapsed": false,
    "pycharm": {
     "name": "#%%\n"
    }
   }
  },
  {
   "cell_type": "code",
   "execution_count": 8,
   "outputs": [],
   "source": [
    "(r_core,\n",
    "radii,\n",
    "core_radii,\n",
    "reg_thickness,\n",
    "where_regolith,\n",
    "times,\n",
    "mantle_temperature_array,\n",
    "core_temperature_array) = mainmod.set_up()"
   ],
   "metadata": {
    "collapsed": false,
    "pycharm": {
     "name": "#%%\n"
    }
   }
  },
  {
   "cell_type": "code",
   "execution_count": 3,
   "outputs": [],
   "source": [
    "\n"
   ],
   "metadata": {
    "collapsed": false,
    "pycharm": {
     "name": "#%%\n"
    }
   }
  }
 ],
 "metadata": {
  "kernelspec": {
   "display_name": "Python 3",
   "language": "python",
   "name": "python3"
  },
  "language_info": {
   "codemirror_mode": {
    "name": "ipython",
    "version": 2
   },
   "file_extension": ".py",
   "mimetype": "text/x-python",
   "name": "python",
   "nbconvert_exporter": "python",
   "pygments_lexer": "ipython2",
   "version": "2.7.6"
  }
 },
 "nbformat": 4,
 "nbformat_minor": 0
}