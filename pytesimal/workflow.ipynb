{
 "cells": [
  {
   "cell_type": "code",
   "execution_count": 2,
   "metadata": {
    "collapsed": true,
    "pycharm": {
     "name": "#%%\n"
    }
   },
   "outputs": [],
   "source": [
    "import draft_mainmodule as mainmod\n",
    "import load_and_save_data as load\n",
    "import draft_mantle_timestepping_2 as mantle_timestepping\n",
    "import draft_analysis as analysis"
   ]
  },
  {
   "cell_type": "code",
   "execution_count": 3,
   "outputs": [],
   "source": [
    "(run_ID, folder, timestep, r_planet, core_size_factor,\n",
    "reg_fraction, max_time, temp_core_melting, olivine_cp,\n",
    "olivine_density, cmb_conductivity, core_cp, core_density,\n",
    "temp_init, temp_surface, core_temp_init, core_latent_heat,\n",
    "kappa_reg, dr, cond_constant, density_constant,\n",
    "heat_cap_constant) = load.load_params_from_file()\n",
    "\n",
    "# replacing default folder with local path\n",
    "folder = '/home/maeve/Documents/quick_example_pytesimal'"
   ],
   "metadata": {
    "collapsed": false,
    "pycharm": {
     "name": "#%%\n"
    }
   }
  },
  {
   "cell_type": "code",
   "execution_count": 4,
   "outputs": [],
   "source": [
    "load.check_folder_exists(folder)"
   ],
   "metadata": {
    "collapsed": false,
    "pycharm": {
     "name": "#%%\n"
    }
   }
  },
  {
   "cell_type": "code",
   "execution_count": 5,
   "outputs": [],
   "source": [
    "(r_core,\n",
    "radii,\n",
    "core_radii,\n",
    "reg_thickness,\n",
    "where_regolith,\n",
    "times,\n",
    "mantle_temperature_array,\n",
    "core_temperature_array) = mainmod.set_up()\n",
    "\n",
    "latent = []"
   ],
   "metadata": {
    "collapsed": false,
    "pycharm": {
     "name": "#%%\n"
    }
   }
  },
  {
   "cell_type": "code",
   "execution_count": 6,
   "outputs": [
    {
     "name": "stdout",
     "output_type": "stream",
     "text": [
      "***/n***/n***/n\n",
      "Testing modular conductivity!\n",
      "Constant conductivity: \n",
      "y\n",
      "Constant density: \n",
      "y\n",
      "Constant heat capacity: \n",
      "y\n"
     ]
    }
   ],
   "source": [
    "(mantle_temperature_array,\n",
    "core_temperature_array,\n",
    "latent,\n",
    "temp_list_mid_mantle,\n",
    "temp_list_shal,\n",
    "temp_list_cmb_5,\n",
    "A_1list,\n",
    "B_1list,\n",
    "C_1list,\n",
    "delt_list,\n",
    "A_1listcmb,\n",
    "B_1listcmb,\n",
    "C_1listcmb,\n",
    "delt_listcmb,\n",
    "A_1listshal,\n",
    "B_1listshal,\n",
    "C_1listshal,\n",
    "delt_listshal,\n",
    ")= mantle_timestepping.discretisation(\n",
    "    latent,\n",
    "    temp_init,\n",
    "    core_temp_init,\n",
    "    temp_core_melting,\n",
    "    temp_surface,\n",
    "    mantle_temperature_array,\n",
    "    dr,\n",
    "    core_temperature_array,\n",
    "    timestep,\n",
    "    core_density,\n",
    "    core_cp,\n",
    "    r_core,\n",
    "    core_latent_heat,\n",
    "    radii,\n",
    "    times,\n",
    "    where_regolith,\n",
    "    kappa_reg,)\n"
   ],
   "metadata": {
    "collapsed": false,
    "pycharm": {
     "name": "#%%\n"
    }
   }
  },
  {
   "cell_type": "code",
   "execution_count": 7,
   "outputs": [
    {
     "data": {
      "text/plain": "array([[1600.        , 1600.        , 1600.        , ...,  758.71128667,\n         758.70521728,  758.69914797],\n       [1600.        , 1600.        , 1600.        , ...,  753.12239255,\n         753.1163917 ,  753.11039093],\n       [1600.        , 1600.        , 1600.        , ...,  747.56721019,\n         747.56127747,  747.55534483],\n       ...,\n       [1600.        , 1600.        , 1600.        , ...,  255.79546785,\n         255.7954021 ,  255.79533636],\n       [1600.        , 1600.        , 1593.22278226, ...,  252.88932606,\n         252.88929329,  252.88926053],\n       [1600.        ,  250.        ,  250.        , ...,  250.        ,\n         250.        ,  250.        ]])"
     },
     "execution_count": 7,
     "metadata": {},
     "output_type": "execute_result"
    }
   ],
   "source": [
    "mantle_temperature_array"
   ],
   "metadata": {
    "collapsed": false,
    "pycharm": {
     "name": "#%%\n"
    }
   }
  },
  {
   "cell_type": "code",
   "execution_count": 8,
   "outputs": [
    {
     "name": "stdout",
     "output_type": "stream",
     "text": [
      "core_frozen: [array([[False, False, False, ...,  True,  True,  True],\n",
      "       [False, False, False, ...,  True,  True,  True],\n",
      "       [False, False, False, ...,  True,  True,  True],\n",
      "       ...,\n",
      "       [False, False, False, ...,  True,  True,  True],\n",
      "       [False, False, False, ...,  True,  True,  True],\n",
      "       [False, False, False, ...,  True,  True,  True]])]; times_frozen: [ 54111  54112  54113 ... 126226 126227 126228]; time_core_frozen: 5411100000000000.0; fully_frozen: 7637200000000000.0\n"
     ]
    }
   ],
   "source": [
    "(core_frozen,\n",
    " times_frozen,\n",
    " time_core_frozen,\n",
    " fully_frozen) = analysis.core_freezing(core_temperature_array,\n",
    "                                        max_time,\n",
    "                                        times,\n",
    "                                        latent,\n",
    "                                        temp_core_melting,\n",
    "                                        timestep)\n"
   ],
   "metadata": {
    "collapsed": false,
    "pycharm": {
     "name": "#%%\n"
    }
   }
  },
  {
   "cell_type": "code",
   "execution_count": 10,
   "outputs": [],
   "source": [
    "dT_by_dt = analysis.cooling_rate(mantle_temperature_array, timestep)\n",
    "dT_by_dt_core = analysis.cooling_rate(core_temperature_array, timestep)"
   ],
   "metadata": {
    "collapsed": false,
    "pycharm": {
     "name": "#%%\n"
    }
   }
  },
  {
   "cell_type": "code",
   "execution_count": 9,
   "outputs": [],
   "source": [
    "d_im = 147  # cz diameter in nm\n",
    "d_esq = 158  # cz diameter in nm"
   ],
   "metadata": {
    "collapsed": false,
    "pycharm": {
     "name": "#%%\n"
    }
   }
  }
 ],
 "metadata": {
  "kernelspec": {
   "display_name": "Python 3",
   "language": "python",
   "name": "python3"
  },
  "language_info": {
   "codemirror_mode": {
    "name": "ipython",
    "version": 2
   },
   "file_extension": ".py",
   "mimetype": "text/x-python",
   "name": "python",
   "nbconvert_exporter": "python",
   "pygments_lexer": "ipython2",
   "version": "2.7.6"
  }
 },
 "nbformat": 4,
 "nbformat_minor": 0
}