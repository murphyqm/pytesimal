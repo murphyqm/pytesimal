{
 "cells": [
  {
   "cell_type": "code",
   "execution_count": 1,
   "metadata": {
    "pycharm": {
     "name": "#%%\n"
    }
   },
   "outputs": [],
   "source": [
    "import matplotlib\n",
    "\n",
    "import draft_mainmodule as mainmod\n",
    "import load_plot_save as load\n",
    "import draft_mantle_timestepping_2 as mantle_timestepping\n",
    "import draft_analysis as analysis\n",
    "import draft_core_functions_2\n",
    "import draft_mantle_properties as mantle_properties\n",
    "\n",
    "%matplotlib inline"
   ]
  },
  {
   "cell_type": "code",
   "execution_count": 2,
   "metadata": {
    "pycharm": {
     "name": "#%%\n"
    }
   },
   "outputs": [],
   "source": [
    "load.make_default_param_file()\n",
    "\n",
    "(run_ID, folder, timestep, r_planet, core_size_factor,\n",
    "reg_fraction, max_time, temp_core_melting, olivine_cp,\n",
    "olivine_density, cmb_conductivity, core_cp, core_density,\n",
    "temp_init, temp_surface, core_temp_init, core_latent_heat,\n",
    "kappa_reg, dr, cond_constant, density_constant,\n",
    "heat_cap_constant) = load.load_params_from_file()\n",
    "\n",
    "# replacing default folder with local path\n",
    "folder = '/home/maeve/Documents/quick_example_pytesimal'"
   ]
  },
  {
   "cell_type": "code",
   "execution_count": 3,
   "metadata": {
    "pycharm": {
     "name": "#%%\n"
    }
   },
   "outputs": [],
   "source": [
    "load.check_folder_exists(folder)"
   ]
  },
  {
   "cell_type": "code",
   "execution_count": 4,
   "metadata": {
    "pycharm": {
     "name": "#%%\n"
    }
   },
   "outputs": [],
   "source": [
    "(r_core,\n",
    "radii,\n",
    "core_radii,\n",
    "reg_thickness,\n",
    "where_regolith,\n",
    "times,\n",
    "mantle_temperature_array,\n",
    "core_temperature_array) = mainmod.set_up()\n",
    "\n",
    "latent = []"
   ]
  },
  {
   "cell_type": "code",
   "execution_count": 5,
   "metadata": {
    "pycharm": {
     "name": "#%%\n"
    }
   },
   "outputs": [],
   "source": [
    "core_values = draft_core_functions_2.IsothermalEutecticCore(temp=core_temp_init, melt=temp_core_melting,\n",
    "                                                            outer_r=r_core, inner_r=0, rho=core_density, cp=core_cp,\n",
    "                                                            core_latent_heat=core_latent_heat)"
   ]
  },
  {
   "cell_type": "code",
   "execution_count": 6,
   "metadata": {
    "pycharm": {
     "name": "#%%\n"
    }
   },
   "outputs": [],
   "source": [
    "(mantle_conductivity, mantle_heatcap, mantle_density) = mantle_properties.set_up_mantle_properties()\n"
   ]
  },
  {
   "cell_type": "code",
   "execution_count": 7,
   "metadata": {},
   "outputs": [],
   "source": [
    "top_mantle_bc = mantle_timestepping.surface_dirichlet_bc\n",
    "bottom_mantle_bc = mantle_timestepping.cmb_dirichlet_bc"
   ]
  },
  {
   "cell_type": "code",
   "execution_count": 8,
   "metadata": {
    "pycharm": {
     "name": "#%%\n"
    }
   },
   "outputs": [],
   "source": [
    "(mantle_temperature_array,\n",
    "core_temperature_array,\n",
    "latent,\n",
    ")= mantle_timestepping.discretisation(\n",
    "    core_values,\n",
    "    latent,\n",
    "    temp_init,\n",
    "    core_temp_init,\n",
    "    top_mantle_bc,\n",
    "    bottom_mantle_bc,\n",
    "    temp_surface,\n",
    "    mantle_temperature_array,\n",
    "    dr,\n",
    "    core_temperature_array,\n",
    "    timestep,\n",
    "    r_core,\n",
    "    radii,\n",
    "    times,\n",
    "    where_regolith,\n",
    "    kappa_reg,\n",
    "    mantle_conductivity,\n",
    "    mantle_heatcap,\n",
    "    mantle_density)\n"
   ]
  },
  {
   "cell_type": "code",
   "execution_count": 9,
   "metadata": {
    "pycharm": {
     "name": "#%%\n"
    }
   },
   "outputs": [
    {
     "data": {
      "text/plain": "array([[1600.        , 1600.        , 1600.        , ...,  758.71128667,\n         758.70521728,  758.69914797],\n       [1600.        , 1600.        , 1600.        , ...,  753.12239255,\n         753.1163917 ,  753.11039093],\n       [1600.        , 1600.        , 1600.        , ...,  747.56721019,\n         747.56127747,  747.55534483],\n       ...,\n       [1600.        , 1600.        , 1600.        , ...,  255.79546785,\n         255.7954021 ,  255.79533636],\n       [1600.        , 1600.        , 1593.22278226, ...,  252.88932606,\n         252.88929329,  252.88926053],\n       [1600.        ,  250.        ,  250.        , ...,  250.        ,\n         250.        ,  250.        ]])"
     },
     "execution_count": 9,
     "metadata": {},
     "output_type": "execute_result"
    }
   ],
   "source": [
    "mantle_temperature_array"
   ]
  },
  {
   "cell_type": "code",
   "execution_count": 10,
   "metadata": {
    "pycharm": {
     "name": "#%%\n"
    }
   },
   "outputs": [
    {
     "name": "stdout",
     "output_type": "stream",
     "text": [
      "core_frozen: [array([[False, False, False, ...,  True,  True,  True],\n",
      "       [False, False, False, ...,  True,  True,  True],\n",
      "       [False, False, False, ...,  True,  True,  True],\n",
      "       ...,\n",
      "       [False, False, False, ...,  True,  True,  True],\n",
      "       [False, False, False, ...,  True,  True,  True],\n",
      "       [False, False, False, ...,  True,  True,  True]])]; times_frozen: [ 54111  54112  54113 ... 126226 126227 126228]; time_core_frozen: 5411100000000000.0; fully_frozen: 7637200000000000.0\n"
     ]
    }
   ],
   "source": [
    "(core_frozen,\n",
    " times_frozen,\n",
    " time_core_frozen,\n",
    " fully_frozen) = analysis.core_freezing(core_temperature_array,\n",
    "                                        max_time,\n",
    "                                        times,\n",
    "                                        latent,\n",
    "                                        temp_core_melting,\n",
    "                                        timestep)\n"
   ]
  },
  {
   "cell_type": "code",
   "execution_count": 11,
   "metadata": {
    "pycharm": {
     "name": "#%%\n"
    }
   },
   "outputs": [],
   "source": [
    "dT_by_dt = analysis.cooling_rate(mantle_temperature_array, timestep)\n",
    "dT_by_dt_core = analysis.cooling_rate(core_temperature_array, timestep)"
   ]
  },
  {
   "cell_type": "code",
   "execution_count": 12,
   "metadata": {
    "pycharm": {
     "name": "#%%\n"
    }
   },
   "outputs": [],
   "source": [
    "mantle_cooling_rates = dT_by_dt\n",
    "core_cooling_rates = dT_by_dt_core"
   ]
  },
  {
   "cell_type": "code",
   "execution_count": 13,
   "metadata": {
    "pycharm": {
     "name": "#%%\n"
    }
   },
   "outputs": [],
   "source": [
    "d_im = 147  # cz diameter in nm\n",
    "d_esq = 158  # cz diameter in nm"
   ]
  },
  {
   "cell_type": "code",
   "execution_count": 14,
   "metadata": {
    "pycharm": {
     "name": "#%%\n"
    }
   },
   "outputs": [],
   "source": [
    "imilac_cooling_rate = analysis.cooling_rate_to_seconds(\n",
    "    analysis.cooling_rate_cloudyzone_diameter(d_im))\n",
    "esquel_cooling_rate = analysis.cooling_rate_to_seconds(\n",
    "    analysis.cooling_rate_cloudyzone_diameter(d_esq))\n",
    "\n",
    "im_depth, im_x, im_time_core_frozen, im_Time_of_Crossing, im_Critical_Radius = analysis.meteorite_depth_and_timing(\n",
    "    imilac_cooling_rate,\n",
    "    mantle_temperature_array,\n",
    "    dT_by_dt,\n",
    "    radii,\n",
    "    r_planet,\n",
    "    core_size_factor,\n",
    "    time_core_frozen,\n",
    "    fully_frozen,\n",
    "    dr=1000,\n",
    ")\n",
    "\n",
    "esq_depth, esq_x, esq_time_core_frozen, esq_Time_of_Crossing, esq_Critical_Radius = analysis.meteorite_depth_and_timing(\n",
    "    esquel_cooling_rate,\n",
    "    mantle_temperature_array,\n",
    "    dT_by_dt,\n",
    "    radii,\n",
    "    r_planet,\n",
    "    core_size_factor,\n",
    "    time_core_frozen,\n",
    "    fully_frozen,\n",
    "    dr=1000,\n",
    ")\n",
    "\n",
    "meteorite_results_dict = { 'Esq results':\n",
    "                               {'depth': esq_depth,\n",
    "                                'text result': esq_x},\n",
    "                           'Im results':\n",
    "                               {'depth' : im_depth,\n",
    "                                'text result': im_x,\n",
    "                                'critical radius': im_Critical_Radius}}"
   ]
  },
  {
   "cell_type": "code",
   "execution_count": 15,
   "metadata": {
    "pycharm": {
     "name": "#%%\n"
    }
   },
   "outputs": [
    {
     "name": "stdout",
     "output_type": "stream",
     "text": [
      "Imilac depth: 57.0; Imilac timing: Core has started solidifying\n",
      "Esquel depth: 64.0; Esquel timing: Core has started solidifying\n"
     ]
    }
   ],
   "source": [
    "print(f\"Imilac depth: {im_depth}; Imilac timing: {im_x}\")\n",
    "print(f\"Esquel depth: {esq_depth}; Esquel timing: {esq_x}\")"
   ]
  },
  {
   "cell_type": "code",
   "execution_count": 16,
   "metadata": {
    "pycharm": {
     "name": "#%%\n"
    }
   },
   "outputs": [
    {
     "data": {
      "text/plain": "<Figure size 432x648 with 4 Axes>",
      "image/png": "[encoded data removed]"
     },
     "metadata": {
      "needs_background": "light"
     },
     "output_type": "display_data"
    }
   ],
   "source": [
    "fig_w = 6\n",
    "fig_h = 9\n",
    "\n",
    "load.two_in_one(\n",
    "    fig_w,\n",
    "    fig_h,\n",
    "    mantle_temperature_array,\n",
    "    core_temperature_array,\n",
    "    dT_by_dt,\n",
    "    dT_by_dt_core,)"
   ]
  },
  {
   "cell_type": "code",
   "execution_count": 17,
   "metadata": {
    "pycharm": {
     "name": "#%%\n"
    }
   },
   "outputs": [],
   "source": [
    "result_filename = 'example_results1'\n",
    "load.save_params_and_results(result_filename, run_ID, folder, timestep, r_planet, core_size_factor,\n",
    "                        reg_fraction, max_time, temp_core_melting, olivine_cp,\n",
    "                        olivine_density, cmb_conductivity, core_cp, core_density,\n",
    "                        temp_init, temp_surface, core_temp_init, core_latent_heat,\n",
    "                        kappa_reg, dr, cond_constant, density_constant,\n",
    "                        heat_cap_constant, time_core_frozen, fully_frozen,\n",
    "                        meteorite_results=meteorite_results_dict)\n"
   ]
  },
  {
   "cell_type": "code",
   "execution_count": 18,
   "metadata": {
    "pycharm": {
     "name": "#%%\n"
    }
   },
   "outputs": [],
   "source": [
    "load.save_result_arrays(result_filename,\n",
    "                       folder,\n",
    "                       mantle_temperature_array,\n",
    "                       core_temperature_array,\n",
    "                       mantle_cooling_rates,\n",
    "                       core_cooling_rates)\n"
   ]
  },
  {
   "cell_type": "code",
   "execution_count": null,
   "metadata": {
    "pycharm": {
     "name": "#%%\n"
    }
   },
   "outputs": [],
   "source": [
    "\n"
   ]
  }
 ],
 "metadata": {
  "kernelspec": {
   "display_name": "Python 3",
   "language": "python",
   "name": "python3"
  },
  "language_info": {
   "codemirror_mode": {
    "name": "ipython",
    "version": 3
   },
   "file_extension": ".py",
   "mimetype": "text/x-python",
   "name": "python",
   "nbconvert_exporter": "python",
   "pygments_lexer": "ipython3",
   "version": "3.8.8"
  }
 },
 "nbformat": 4,
 "nbformat_minor": 1
}