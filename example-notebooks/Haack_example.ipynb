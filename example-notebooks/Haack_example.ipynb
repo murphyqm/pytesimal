{
 "cells": [
  {
   "cell_type": "markdown",
   "id": "74a72587",
   "metadata": {},
   "source": [
    "# Reproduction of the reference model of Haack et al.\n",
    "\n",
    "This notebook shows how to use Pytesimal to reproduce the 'reference' model of Haack et al. (1990)\n",
    "in their study of the effect of a megaregolith on the cooling rates of planetesimals. The model is\n",
    "similar in many ways to temperature independent propoerties models of Murphy Quinlan et al. (2021),\n",
    "but it has a more complex core and radiogenic heat sources in the mantle. In particular, we will\n",
    "reproduce the cooling history of the core in the 100 km radius reference case as shown in Figure 3\n",
    "of Haack et al. (1990) with parameters given in Table 1 and Figure 2.\n",
    "\n",
    "\n",
    "\n",
    "\n"
   ]
  },
  {
   "cell_type": "code",
   "execution_count": 1,
   "id": "015589ff",
   "metadata": {},
   "outputs": [],
   "source": [
    "# Setup PYTHONPATH to allow pytesimal\n",
    "# import without install of package\n",
    "import setup_path"
   ]
  },
  {
   "cell_type": "code",
   "execution_count": 2,
   "id": "12cd84bd",
   "metadata": {},
   "outputs": [],
   "source": [
    "import pytesimal"
   ]
  },
  {
   "cell_type": "code",
   "execution_count": 3,
   "id": "65747a6c",
   "metadata": {},
   "outputs": [],
   "source": [
    "planetesimal_radius = 100_000.0 # m\n",
    "core_radius = 0.44 * planetesimal_radius\n",
    "mantle_radius = 0.96 * planetesimal_radius\n",
    "initial_temperature = 1900.0 # K\n",
    "surface_temperature = 200.0 # K\n",
    "regolith_radius = (1.0 - 0.003) * planetesimal_radius\n",
    "regolith_conductivity = 0.001 # W/m K\n",
    "crust_conductivity = 2.0 # W/m K\n",
    "mantle_conductivity = 2.0 # W/m K\n",
    "core_conductivity = 60.0 # W/m K\n",
    "regolith_heat_capacity = 1.2 # J g^-1 K^-1\n",
    "crust_heat_capacity = 1.2 # J g^-1 K^-1\n",
    "mantle_heat_capacity = 1.2 # J g^-1 K^-1\n",
    "core_heat_capacity = 0.6 # J g^-1 K^-1"
   ]
  },
  {
   "cell_type": "markdown",
   "id": "2314cd67",
   "metadata": {},
   "source": [
    "## References\n",
    "\n",
    "Haack, H., K. L. Rasmusen and P. H. Warren (1990) \"Effects of regolith/megaregolith insulation on cooling histories of differentiated asteroids\". Journal of Geophysical Research 95:5111-5124. "
   ]
  },
  {
   "cell_type": "code",
   "execution_count": null,
   "id": "613205f4",
   "metadata": {},
   "outputs": [],
   "source": []
  }
 ],
 "metadata": {
  "kernelspec": {
   "display_name": "Python 3",
   "language": "python",
   "name": "python3"
  },
  "language_info": {
   "codemirror_mode": {
    "name": "ipython",
    "version": 3
   },
   "file_extension": ".py",
   "mimetype": "text/x-python",
   "name": "python",
   "nbconvert_exporter": "python",
   "pygments_lexer": "ipython3",
   "version": "3.8.8"
  }
 },
 "nbformat": 4,
 "nbformat_minor": 5
}
