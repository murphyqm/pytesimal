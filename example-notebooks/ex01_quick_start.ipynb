{
 "cells": [
  {
   "cell_type": "code",
   "execution_count": null,
   "metadata": {
    "collapsed": false
   },
   "outputs": [],
   "source": [
    "%matplotlib inline"
   ]
  },
  {
   "cell_type": "markdown",
   "metadata": {},
   "source": [
    "\n",
    "# 1. Quick Start\n",
    "\n",
    "This script produces a default parameter file then uses this to set up a\n",
    "model run. The default parameter file reproduces the constant material\n",
    "properties case in Murphy Quinlan et al., 2021.\n",
    "\n",
    "In order for this to run without installing the package, we put\n",
    "the directory on the PYTHONPATH. This should be removed if you\n",
    "have installed the package and are running this from your\n",
    "machine:"
   ]
  },
  {
   "cell_type": "code",
   "execution_count": null,
   "outputs": [],
   "source": [
    "# Setup PYTHONPATH to allow pytesimal\n",
    "# import without install of package\n",
    "import setup_path"
   ],
   "metadata": {
    "collapsed": false,
    "pycharm": {
     "name": "#%%\n"
    }
   }
  },
  {
   "cell_type": "code",
   "execution_count": null,
   "metadata": {
    "collapsed": false
   },
   "outputs": [],
   "source": [
    "import pytesimal.load_plot_save\n",
    "import pytesimal.quick_workflow"
   ]
  },
  {
   "cell_type": "markdown",
   "metadata": {},
   "source": [
    "Define a filepath and filename for the parameter file:\n\n"
   ]
  },
  {
   "cell_type": "code",
   "execution_count": null,
   "metadata": {
    "collapsed": false
   },
   "outputs": [],
   "source": [
    "folderpath = 'example_default/'\nfilename = 'example_parameters'\nfilepath = f'{folderpath}{filename}.txt'"
   ]
  },
  {
   "cell_type": "markdown",
   "metadata": {},
   "source": [
    "Save a default parameters file to the filepath:\n\n"
   ]
  },
  {
   "cell_type": "code",
   "execution_count": null,
   "metadata": {
    "collapsed": false
   },
   "outputs": [],
   "source": [
    "pytesimal.load_plot_save.make_default_param_file(filepath)"
   ]
  },
  {
   "cell_type": "markdown",
   "metadata": {},
   "source": [
    "You can open this `json` file in a text editor and change the default values.\nFor this example, we're just leaving the default values as they are and\nloading it without editing, and starting a model run:\n\n"
   ]
  },
  {
   "cell_type": "code",
   "execution_count": null,
   "metadata": {
    "collapsed": false
   },
   "outputs": [],
   "source": [
    "pytesimal.quick_workflow.workflow(filename, folderpath)"
   ]
  },
  {
   "cell_type": "markdown",
   "metadata": {},
   "source": [
    "Just wait for a minute or two for your planetesimal to evolve!\n\n"
   ]
  },
  {
   "cell_type": "code",
   "execution_count": null,
   "metadata": {
    "collapsed": false
   },
   "outputs": [],
   "source": [
    "# Once 400 millions years has passed and your planetesimal has cooled down,\n# we can load the results in to analyse and plot:\n\nfilepath = 'example_default/example_parameters_results.npz'\n(temperatures,\n coretemp,\n dT_by_dt,\n dT_by_dt_core) = pytesimal.load_plot_save.read_datafile(filepath)"
   ]
  },
  {
   "cell_type": "markdown",
   "metadata": {},
   "source": [
    "We can visualise the cooling history of the planetesimal:\n\n"
   ]
  },
  {
   "cell_type": "code",
   "execution_count": null,
   "metadata": {
    "collapsed": false
   },
   "outputs": [],
   "source": [
    "# Specify a figure width and height\nfig_w = 6\nfig_h = 9\n\npytesimal.load_plot_save.two_in_one(fig_w,\n                                    fig_h,\n                                    temperatures,\n                                    coretemp,\n                                    dT_by_dt,\n                                    dT_by_dt_core)"
   ]
  }
 ],
 "metadata": {
  "kernelspec": {
   "display_name": "Python 3",
   "language": "python",
   "name": "python3"
  },
  "language_info": {
   "codemirror_mode": {
    "name": "ipython",
    "version": 3
   },
   "file_extension": ".py",
   "mimetype": "text/x-python",
   "name": "python",
   "nbconvert_exporter": "python",
   "pygments_lexer": "ipython3",
   "version": "3.7.9"
  }
 },
 "nbformat": 4,
 "nbformat_minor": 0
}