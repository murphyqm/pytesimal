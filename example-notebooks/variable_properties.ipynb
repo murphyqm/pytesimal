{
 "cells": [
  {
   "cell_type": "code",
   "execution_count": 1,
   "metadata": {},
   "outputs": [],
   "source": [
    "%matplotlib inline"
   ]
  },
  {
   "cell_type": "markdown",
   "metadata": {},
   "source": [
    "\n",
    "# Variable Properties\n",
    "\n",
    "This example shows step by step how to set up and run a model of a cooling\n",
    "planetesimal without using a parameters file. This example uses temperature\n",
    "dependent material properties in the mantle and reproduces the results of\n",
    "[Murphy Quinlan et al. (2021)](https://doi.org/10.1029/2020JE006726).\n"
   ]
  },
  {
   "cell_type": "markdown",
   "metadata": {},
   "source": [
    "First we import the required `pytesimal` modules. To allow this\n",
    "example to run without the package installed, we import these\n",
    "modules from the `context.py` script, which adds the package\n",
    "directory to the python path. This isn't required once the\n",
    "package is installed; instead modules can be loaded with\n",
    "`import pytesimal.numerical_methods` etc.\n",
    "\n",
    "As we're setting this up step-by-step instead of using the\n",
    "`pytesimal.quick_workflow` module, we need to import a\n",
    "selection of modules:"
   ]
  },
  {
   "cell_type": "code",
   "execution_count": 2,
   "metadata": {},
   "outputs": [],
   "source": [
    "# Roundabout import without package installed\n",
    "from context import setup_functions\n",
    "from context import load_plot_save\n",
    "from context import numerical_methods\n",
    "from context import analysis\n",
    "from context import core_function\n",
    "from context import mantle_properties"
   ]
  },
  {
   "cell_type": "markdown",
   "metadata": {},
   "source": [
    "Instead of creating and loading a parameter file, we're going to\n",
    "define variables here. The values match those of the constant\n",
    "thermal properties case in Murphy Quinlan et al. (2021):\n",
    "\n"
   ]
  },
  {
   "cell_type": "code",
   "execution_count": 3,
   "metadata": {},
   "outputs": [],
   "source": [
    "timestep = 1E11  # s\n",
    "r_planet = 250_000.0  # m\n",
    "core_size_factor = 0.5  # fraction of r_planet\n",
    "reg_fraction = 0.032  # fraction of r_planet\n",
    "max_time = 400  # Myr\n",
    "temp_core_melting = 1200.0  # K\n",
    "core_cp = 850.0  # J/(kg K)\n",
    "core_density = 7800.0  # kg/m^3\n",
    "temp_init = 1600.0  # K\n",
    "temp_surface = 250.0  # K\n",
    "core_temp_init = 1600.0  # K\n",
    "core_latent_heat = 270_000.0  # J/kg\n",
    "kappa_reg = 5e-8  # m^2/s\n",
    "dr = 1000.0  # m"
   ]
  },
  {
   "cell_type": "markdown",
   "metadata": {},
   "source": [
    "The `setup_functions.set_up()` function creates empty arrays to\n",
    "be filled with resulting temperatures:\n",
    "\n"
   ]
  },
  {
   "cell_type": "code",
   "execution_count": 4,
   "metadata": {},
   "outputs": [],
   "source": [
    "(r_core,\n",
    " radii,\n",
    " core_radii,\n",
    " reg_thickness,\n",
    " where_regolith,\n",
    " times,\n",
    " mantle_temperature_array,\n",
    " core_temperature_array) = setup_functions.set_up(timestep,\n",
    "                                                            r_planet,\n",
    "                                                            core_size_factor,\n",
    "                                                            reg_fraction,\n",
    "                                                            max_time,\n",
    "                                                            dr)\n",
    "\n",
    "# We define an empty list of latent heat that will\n",
    "# be filled as the core freezes\n",
    "latent = []"
   ]
  },
  {
   "cell_type": "markdown",
   "metadata": {},
   "source": [
    "Next, we instantiate the core object. This will keep track of the\n",
    "temperature of the core as the model runs, cooling as heat\n",
    "is extracted across the core-mantle boundary. This simple\n",
    "eutectic core model doesn't track inner core growth, but\n",
    "this is still a required argument to allow for future\n",
    "incorporation of more complex core objects:\n",
    "\n"
   ]
  },
  {
   "cell_type": "code",
   "execution_count": 5,
   "metadata": {},
   "outputs": [],
   "source": [
    "core_values = core_function.IsothermalEutecticCore(\n",
    "    initial_temperature=core_temp_init,\n",
    "    melting_temperature=temp_core_melting,\n",
    "    outer_r=r_core,\n",
    "    inner_r=0,\n",
    "    rho=core_density,\n",
    "    cp=core_cp,\n",
    "    core_latent_heat=core_latent_heat)"
   ]
  },
  {
   "cell_type": "markdown",
   "metadata": {},
   "source": [
    "Then we define the mantle properties. We want to use temperature-dependent\n",
    "properties, so we need to specify this:\n",
    "\n"
   ]
  },
  {
   "cell_type": "code",
   "execution_count": 6,
   "metadata": {},
   "outputs": [],
   "source": [
    "(mantle_conductivity,\n",
    " mantle_heatcap,\n",
    " mantle_density) = mantle_properties.set_up_mantle_properties(\n",
    "    cond_constant='n',\n",
    "    density_constant='n',\n",
    "    heat_cap_constant='n'\n",
    ")"
   ]
  },
  {
   "cell_type": "markdown",
   "metadata": {},
   "source": [
    "You can check (or change) the value of these properties after they've been\n",
    "set up using one of the `MantleProperties` methods:\n",
    "\n"
   ]
  },
  {
   "cell_type": "code",
   "execution_count": 7,
   "metadata": {},
   "outputs": [
    {
     "name": "stdout",
     "output_type": "stream",
     "text": [
      " Mantle conductivity 3.411005666195278 W/(m K)\n"
     ]
    }
   ],
   "source": [
    "print(f' Mantle conductivity {mantle_conductivity.getk()} W/(m K)')"
   ]
  },
  {
   "cell_type": "markdown",
   "metadata": {},
   "source": [
    "When temperature dependent properties are used, temperature can be passed in\n",
    "as an argument to return the value at that temperature. The default\n",
    "temperature is 295 K, so if no temperature argument is passed, the\n",
    "function is evaluated at `T=295`.\n",
    "\n",
    "We need to set up the boundary conditions for the mantle. For this example,\n",
    "we're using fixed temperature boundary conditions at both the\n",
    "surface and the core-mantle boundary.\n",
    "\n"
   ]
  },
  {
   "cell_type": "code",
   "execution_count": 8,
   "metadata": {},
   "outputs": [],
   "source": [
    "top_mantle_bc = numerical_methods.surface_dirichlet_bc\n",
    "bottom_mantle_bc = numerical_methods.cmb_dirichlet_bc\n",
    "\n",
    "# Now we let the temperature inside the planestesimal evolve. This is the\n",
    "# slowest part of the code, because it has to iterate over all radii and\n",
    "# time.\n",
    "# This will take a minute or two!\n",
    "# The mantle property objects are passed in in the same way as in the\n",
    "# example with constant thermal properties.\n",
    "\n",
    "(mantle_temperature_array,\n",
    " core_temperature_array,\n",
    " latent,\n",
    " ) = numerical_methods.discretisation(\n",
    "    core_values,\n",
    "    latent,\n",
    "    temp_init,\n",
    "    core_temp_init,\n",
    "    top_mantle_bc,\n",
    "    bottom_mantle_bc,\n",
    "    temp_surface,\n",
    "    mantle_temperature_array,\n",
    "    dr,\n",
    "    core_temperature_array,\n",
    "    timestep,\n",
    "    r_core,\n",
    "    radii,\n",
    "    times,\n",
    "    where_regolith,\n",
    "    kappa_reg,\n",
    "    mantle_conductivity,\n",
    "    mantle_heatcap,\n",
    "    mantle_density)"
   ]
  },
  {
   "cell_type": "markdown",
   "metadata": {},
   "source": [
    "This function fills the empty arrays produced by\n",
    "`setup_functions.set_up()` with calculated temperatures for the mantle and\n",
    "core.\n",
    "\n",
    "Now we can use the `pytesimal.analysis` module to find out more\n",
    "about the model run. We can check when the core was freezing,\n",
    "so we can compare this to the cooling history of meteorites\n",
    "and see whether they can be expected to record magnetic remnants\n",
    "of a core dynamo:\n",
    "\n"
   ]
  },
  {
   "cell_type": "code",
   "execution_count": 9,
   "metadata": {},
   "outputs": [],
   "source": [
    "(core_frozen,\n",
    " times_frozen,\n",
    " time_core_frozen,\n",
    " fully_frozen) = analysis.core_freezing(core_temperature_array,\n",
    "                                                  max_time,\n",
    "                                                  times,\n",
    "                                                  latent,\n",
    "                                                  temp_core_melting,\n",
    "                                                  timestep)"
   ]
  },
  {
   "cell_type": "markdown",
   "metadata": {},
   "source": [
    "Then, we can calculate arrays of cooling rates from the temperature arrays:\n",
    "\n"
   ]
  },
  {
   "cell_type": "code",
   "execution_count": 11,
   "metadata": {},
   "outputs": [],
   "source": [
    "mantle_cooling_rates = analysis.cooling_rate(mantle_temperature_array,\n",
    "                                                       timestep)\n",
    "core_cooling_rates = analysis.cooling_rate(core_temperature_array,\n",
    "                                                     timestep)"
   ]
  },
  {
   "cell_type": "markdown",
   "metadata": {},
   "source": [
    "Meteorite data (the diameter of 'cloudy-zone particles') can be used to\n",
    "estimate the rate at which the meteorites cooled through a specific\n",
    "temperature (C. W. Yang et al., 1997). The\n",
    "`analysis.cooling_rate_cloudyzone_diameter` function calculates the cooling\n",
    "rate in K/Myr, while the `analysis.cooling_rate_to_seconds` function\n",
    "converts this to K/s which allows comparison to our result arrays.\n",
    "\n"
   ]
  },
  {
   "cell_type": "code",
   "execution_count": 14,
   "metadata": {},
   "outputs": [],
   "source": [
    "d_im = 147  # cz diameter in nm\n",
    "d_esq = 158  # cz diameter in nm\n",
    "\n",
    "imilac_cooling_rate = analysis.cooling_rate_to_seconds(\n",
    "    analysis.cooling_rate_cloudyzone_diameter(d_im))\n",
    "esquel_cooling_rate = analysis.cooling_rate_to_seconds(\n",
    "    analysis.cooling_rate_cloudyzone_diameter(d_esq))"
   ]
  },
  {
   "cell_type": "markdown",
   "metadata": {},
   "source": [
    "We can use this cooling rate information to find out how deep within their\n",
    "parent bodies these meteorites originally formed, and when they passed\n",
    "through the temperature of tetrataenite formation (when magnetism\n",
    "can be recorded). The `analysis.meteorite_depth_and_timing()` function\n",
    "returns the source depth of the meteorite material in the parent body\n",
    "based on the metal cooling rates at 800 K (as a depth from surface in km and\n",
    "as a radial value from the center of the planet in m), the time that the\n",
    "meteorite cools through the tetrataenite formation temperature in\n",
    "comparison to the core crystallisation period, and a string defining\n",
    "this relation between paleomagnetism recording and dynamo activity:\n",
    "\n"
   ]
  },
  {
   "cell_type": "code",
   "execution_count": 16,
   "metadata": {},
   "outputs": [
    {
     "name": "stdout",
     "output_type": "stream",
     "text": [
      "Imilac depth: 61.0; Imilac timing: Core has not started solidifying yet\n",
      "Esquel depth: 68.0; Esquel timing: Core has started solidifying\n"
     ]
    }
   ],
   "source": [
    "(im_depth,\n",
    " im_string_result,\n",
    " im_time_core_frozen,\n",
    " im_Time_of_Crossing,\n",
    " im_Critical_Radius) = analysis.meteorite_depth_and_timing(\n",
    "    imilac_cooling_rate,\n",
    "    mantle_temperature_array,\n",
    "    mantle_cooling_rates,\n",
    "    radii,\n",
    "    r_planet,\n",
    "    core_size_factor,\n",
    "    time_core_frozen,\n",
    "    fully_frozen,\n",
    "    dr=1000,\n",
    ")\n",
    "\n",
    "(esq_depth,\n",
    " esq_string_result,\n",
    " esq_time_core_frozen,\n",
    " esq_Time_of_Crossing,\n",
    " esq_Critical_Radius) = analysis.meteorite_depth_and_timing(\n",
    "    esquel_cooling_rate,\n",
    "    mantle_temperature_array,\n",
    "    mantle_cooling_rates,\n",
    "    radii,\n",
    "    r_planet,\n",
    "    core_size_factor,\n",
    "    time_core_frozen,\n",
    "    fully_frozen,\n",
    "    dr=1000,\n",
    ")\n",
    "\n",
    "print(f\"Imilac depth: {im_depth}; Imilac timing: {im_string_result}\")\n",
    "print(f\"Esquel depth: {esq_depth}; Esquel timing: {esq_string_result}\")"
   ]
  },
  {
   "cell_type": "markdown",
   "metadata": {},
   "source": [
    "If you need to save the meteorite results, they can be saved to a dictionary\n",
    "which can then be passed to the `load_plot_save.save_params_and_results`.\n",
    "This allows for any number of meteorites to be analysed and only the\n",
    "relevant data stored:\n",
    "\n"
   ]
  },
  {
   "cell_type": "code",
   "execution_count": 17,
   "metadata": {},
   "outputs": [],
   "source": [
    "meteorite_results_dict = {'Esq results':\n",
    "                              {'depth': esq_depth,\n",
    "                               'text result': esq_string_result},\n",
    "                          'Im results':\n",
    "                              {'depth': im_depth,\n",
    "                               'text result': im_string_result,\n",
    "                               'critical radius': im_Critical_Radius}}"
   ]
  },
  {
   "cell_type": "markdown",
   "metadata": {},
   "source": [
    "To get an overview of the cooling history of the body, it's very useful\n",
    "to plot the temperatures and cooling rates as a heatmap through time.\n",
    "In order to plot the results, we need to define a figure height and width,\n",
    "then call `load_plot_save.plot_temperature_history()`,\n",
    "`load_plot_save.plot_coolingrate_history()` or `load_plot_save.two_in_one()`.\n",
    "These functions convert the cooling rate from K/timestep to K/Myr to make\n",
    "the results more human-readable.\n",
    "\n"
   ]
  },
  {
   "cell_type": "code",
   "execution_count": 18,
   "metadata": {},
   "outputs": [
    {
     "data": {
      "image/png": "[encoded data removed]",
      "text/plain": [
       "<Figure size 432x648 with 4 Axes>"
      ]
     },
     "metadata": {
      "needs_background": "light"
     },
     "output_type": "display_data"
    }
   ],
   "source": [
    "fig_w = 6\n",
    "fig_h = 9\n",
    "\n",
    "load_plot_save.two_in_one(\n",
    "    fig_w,\n",
    "    fig_h,\n",
    "    mantle_temperature_array,\n",
    "    core_temperature_array,\n",
    "    mantle_cooling_rates,\n",
    "    core_cooling_rates, )"
   ]
  },
  {
   "cell_type": "markdown",
   "metadata": {},
   "source": [
    "There are a few formats or ways to save the results. The temperature and\n",
    "cooling rate arrays can be saved as compressed `.npz` arrays, to be loaded\n",
    "at a later time and replotted/new meteorite formation depths calculated etc.\n",
    "The input parameters can be saved as a `.json` file, which allows the run to\n",
    "be documented and provides all the metadata needed to reproduce the results.\n",
    "For either of these, a results folder and results filename is needed. The\n",
    "folder can be defined relative to the working directory, or with an absolute\n",
    "path. An absolute path usually results in less confusion!\n",
    "\n"
   ]
  },
  {
   "cell_type": "code",
   "execution_count": 19,
   "metadata": {},
   "outputs": [],
   "source": [
    "# define folder and check it exists:\n",
    "folder = 'workflow'\n",
    "load_plot_save.check_folder_exists(folder)\n",
    "# define a results filename prefix:\n",
    "result_filename = 'variable_workflow_results'"
   ]
  },
  {
   "cell_type": "markdown",
   "metadata": {},
   "source": [
    "The result arrays can now be saved:\n",
    "\n"
   ]
  },
  {
   "cell_type": "code",
   "execution_count": 20,
   "metadata": {},
   "outputs": [],
   "source": [
    "load_plot_save.save_result_arrays(result_filename,\n",
    "                                            folder,\n",
    "                                            mantle_temperature_array,\n",
    "                                            core_temperature_array,\n",
    "                                            mantle_cooling_rates,\n",
    "                                            core_cooling_rates)"
   ]
  },
  {
   "cell_type": "markdown",
   "metadata": {},
   "source": [
    "In order to save the result parameter file, we also need to define a\n",
    "`run_ID`, a descriptive string to identify the model run, and clarify\n",
    "whether we used constant or variable thermal properties:\n",
    "\n"
   ]
  },
  {
   "cell_type": "code",
   "execution_count": 21,
   "metadata": {},
   "outputs": [],
   "source": [
    "run_ID = 'Example run with default variable properties'\n",
    "cond_constant = 'n'\n",
    "density_constant = 'n'\n",
    "heat_cap_constant = 'n'\n",
    "\n",
    "load_plot_save.save_params_and_results(\n",
    "    result_filename, run_ID, folder, timestep, r_planet, core_size_factor,\n",
    "    reg_fraction, max_time, temp_core_melting, mantle_heatcap.getcp(),\n",
    "    mantle_density.getrho(), mantle_conductivity.getk(), core_cp, core_density,\n",
    "    temp_init, temp_surface, core_temp_init, core_latent_heat,\n",
    "    kappa_reg, dr, cond_constant, density_constant,\n",
    "    heat_cap_constant, time_core_frozen, fully_frozen,\n",
    "    meteorite_results=meteorite_results_dict,\n",
    "    latent_list_len=len(latent))"
   ]
  },
  {
   "cell_type": "markdown",
   "metadata": {},
   "source": [
    "This results file can then be loaded as a parameter file if you want to\n",
    "repeat the same set up.\n",
    "\n"
   ]
  },
  {
   "cell_type": "code",
   "execution_count": null,
   "metadata": {},
   "outputs": [],
   "source": []
  }
 ],
 "metadata": {
  "kernelspec": {
   "display_name": "Python 3",
   "language": "python",
   "name": "python3"
  },
  "language_info": {
   "codemirror_mode": {
    "name": "ipython",
    "version": 3
   },
   "file_extension": ".py",
   "mimetype": "text/x-python",
   "name": "python",
   "nbconvert_exporter": "python",
   "pygments_lexer": "ipython3",
   "version": "3.8.8"
  }
 },
 "nbformat": 4,
 "nbformat_minor": 1
}