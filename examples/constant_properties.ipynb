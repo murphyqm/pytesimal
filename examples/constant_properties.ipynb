{
 "cells": [
  {
   "cell_type": "markdown",
   "metadata": {
    "pycharm": {
     "name": "#%% md\n"
    }
   },
   "source": [
    " # Planetesimal with constant material properties\n",
    "\n",
    "This Jupyter notebook contains an example case where the mantle has\n",
    "constant material properties.\n",
    "\n",
    "First we import the required `pytesimal` modules. To allow this\n",
    "example to run without the package installed, we import these\n",
    "modules from the `context.py` script, which adds the package\n",
    "directory to the python path. This isn't required once the\n",
    "package is installed; instead modules can be loaded with\n",
    "`import pytesimal.numerical_methods` etc."
   ]
  },
  {
   "cell_type": "code",
   "execution_count": null,
   "outputs": [],
   "source": [
    "import matplotlib\n",
    "\n",
    "# Roundabout import without package installed\n",
    "from context import setup_functions\n",
    "from context import load_plot_save\n",
    "from context import numerical_methods\n",
    "from context import analysis\n",
    "from context import core_function\n",
    "from context import mantle_properties\n",
    "\n",
    "# View plots within the notebook\n",
    "%matplotlib inline"
   ],
   "metadata": {
    "collapsed": false,
    "pycharm": {
     "name": "#%%\n"
    }
   }
  },
  {
   "cell_type": "markdown",
   "metadata": {
    "pycharm": {
     "name": "#%% md\n"
    }
   },
   "source": [
    "We want to use the default parameter set, so we will produce a\n",
    "default parameter file:"
   ]
  },
  {
   "cell_type": "code",
   "execution_count": null,
   "outputs": [],
   "source": [
    "load_plot_save.make_default_param_file()"
   ],
   "metadata": {
    "collapsed": false,
    "pycharm": {
     "name": "#%%\n"
    }
   }
  },
  {
   "cell_type": "markdown",
   "source": [
    "If you wanted to change the input parameters, you could now open\n",
    "and edit this file, replacing the default values with parameters\n",
    "that suit the planetesimal you wish to model. As we are using\n",
    "the default parameters, we will just load the parameter file\n",
    "without editing it:"
   ],
   "metadata": {
    "collapsed": false,
    "pycharm": {
     "name": "#%% md\n"
    }
   }
  },
  {
   "cell_type": "code",
   "execution_count": null,
   "outputs": [],
   "source": [
    "(run_ID, folder, timestep, r_planet, core_size_factor,\n",
    "reg_fraction, max_time, temp_core_melting, olivine_cp,\n",
    "olivine_density, cmb_conductivity, core_cp, core_density,\n",
    "temp_init, temp_surface, core_temp_init, core_latent_heat,\n",
    "kappa_reg, dr, cond_constant, density_constant,\n",
    "heat_cap_constant) = load_plot_save.load_params_from_file()"
   ],
   "metadata": {
    "collapsed": false,
    "pycharm": {
     "name": "#%%\n"
    }
   }
  },
  {
   "cell_type": "markdown",
   "source": [
    "For this example, we won't save any outputs. If you're working\n",
    "on your local machine, you can specify the folder you want to\n",
    "save your outputs to, and check that this folder exists on your\n",
    "machine (if it doesn't, a folder will be created):\n",
    "\n",
    "    folder = 'workflow'\n",
    "    load_plot_save.check_folder_exists(folder)\n",
    "\n",
    "This folder can also be specified in the parameters file.\n",
    "Any variable loaded from the parameters file can be\n",
    "overwritten before the model runs, which is useful if looping over\n",
    "a parameter space.\n",
    "\n",
    "The `setup_functions.set_up()` function creates empty arrays to\n",
    "be filled with resulting temperatures:"
   ],
   "metadata": {
    "collapsed": false,
    "pycharm": {
     "name": "#%% md\n"
    }
   }
  },
  {
   "cell_type": "code",
   "execution_count": 23,
   "metadata": {
    "pycharm": {
     "name": "#%%\n"
    }
   },
   "outputs": [],
   "source": [
    "(r_core,\n",
    "radii,\n",
    "core_radii,\n",
    "reg_thickness,\n",
    "where_regolith,\n",
    "times,\n",
    "mantle_temperature_array,\n",
    "core_temperature_array) = setup_functions.set_up()\n",
    "\n",
    "# We define an empty list of latent heat that will\n",
    "# be filled as the core freezes\n",
    "latent = []"
   ]
  },
  {
   "cell_type": "markdown",
   "metadata": {
    "pycharm": {
     "name": "#%% md\n"
    }
   },
   "source": [
    "We instantiate the core object. This will keep track of the\n",
    "temperature of the core as the model runs, cooling as heat\n",
    "is extracted across the core-mantle boundary. This simple\n",
    "eutectic core model doesn't track inner core growth, but\n",
    "this is still a required argument to allow for future\n",
    "incorporation of more complex core objects:"
   ]
  },
  {
   "cell_type": "code",
   "execution_count": null,
   "outputs": [],
   "source": [
    "core_values = core_function.IsothermalEutecticCore(initial_temperature=core_temp_init, melting_temperature=temp_core_melting,\n",
    "                                                            outer_r=r_core, inner_r=0, rho=core_density, cp=core_cp,\n",
    "                                                            core_latent_heat=core_latent_heat)"
   ],
   "metadata": {
    "collapsed": false,
    "pycharm": {
     "name": "#%%\n"
    }
   }
  },
  {
   "cell_type": "markdown",
   "metadata": {
    "pycharm": {
     "name": "#%% md\n"
    }
   },
   "source": [
    "We define the mantle properties. The default is to have constant\n",
    "values, so we don't require any arguments for this example:"
   ]
  },
  {
   "cell_type": "code",
   "execution_count": null,
   "outputs": [],
   "source": [
    "(mantle_conductivity, mantle_heatcap, mantle_density) = mantle_properties.set_up_mantle_properties()\n"
   ],
   "metadata": {
    "collapsed": false,
    "pycharm": {
     "name": "#%%\n"
    }
   }
  },
  {
   "cell_type": "markdown",
   "metadata": {
    "pycharm": {
     "name": "#%% md\n"
    }
   },
   "source": [
    "We set up the boundary conditions for the mantle. For this example,\n",
    "we're using fixed temperature boundary conditions at both the\n",
    "surface and the core-mantle boundary."
   ]
  },
  {
   "cell_type": "code",
   "execution_count": null,
   "outputs": [],
   "source": [
    "top_mantle_bc = numerical_methods.surface_dirichlet_bc\n",
    "bottom_mantle_bc = numerical_methods.cmb_dirichlet_bc"
   ],
   "metadata": {
    "collapsed": false,
    "pycharm": {
     "name": "#%%\n"
    }
   }
  },
  {
   "cell_type": "markdown",
   "metadata": {
    "pycharm": {
     "name": "#%% md\n"
    }
   },
   "source": [
    "Now we let the temperature inside the planestesimal evolve.\n",
    "This will take a minute or two!"
   ]
  },
  {
   "cell_type": "code",
   "execution_count": null,
   "outputs": [],
   "source": [
    "(mantle_temperature_array,\n",
    "core_temperature_array,\n",
    "latent,\n",
    ")= numerical_methods.discretisation(\n",
    "    core_values,\n",
    "    latent,\n",
    "    temp_init,\n",
    "    core_temp_init,\n",
    "    top_mantle_bc,\n",
    "    bottom_mantle_bc,\n",
    "    temp_surface,\n",
    "    mantle_temperature_array,\n",
    "    dr,\n",
    "    core_temperature_array,\n",
    "    timestep,\n",
    "    r_core,\n",
    "    radii,\n",
    "    times,\n",
    "    where_regolith,\n",
    "    kappa_reg,\n",
    "    mantle_conductivity,\n",
    "    mantle_heatcap,\n",
    "    mantle_density)\n"
   ],
   "metadata": {
    "collapsed": false,
    "pycharm": {
     "name": "#%%\n"
    }
   }
  },
  {
   "cell_type": "markdown",
   "metadata": {
    "pycharm": {
     "name": "#%% md\n"
    }
   },
   "source": [
    "Once that's finished running, we can check that the results\n",
    "have been cast to the empty array we defined earlier:"
   ]
  },
  {
   "cell_type": "code",
   "execution_count": null,
   "outputs": [],
   "source": [
    "mantle_temperature_array"
   ],
   "metadata": {
    "collapsed": false,
    "pycharm": {
     "name": "#%%\n"
    }
   }
  },
  {
   "cell_type": "markdown",
   "metadata": {
    "pycharm": {
     "name": "#%% md\n"
    }
   },
   "source": [
    "Now we can use the `pytesimal.analysis` module to find out more\n",
    "about the model run. We can check when the core was freezing,\n",
    "so we can compare this to the cooling history of meteorites\n",
    "and see whether they can be expected to record magnetic remnants\n",
    "of a core dynamo:"
   ]
  },
  {
   "cell_type": "code",
   "execution_count": null,
   "outputs": [],
   "source": [
    "(core_frozen,\n",
    " times_frozen,\n",
    " time_core_frozen,\n",
    " fully_frozen) = analysis.core_freezing(core_temperature_array,\n",
    "                                        max_time,\n",
    "                                        times,\n",
    "                                        latent,\n",
    "                                        temp_core_melting,\n",
    "                                        timestep)\n"
   ],
   "metadata": {
    "collapsed": false,
    "pycharm": {
     "name": "#%%\n"
    }
   }
  },
  {
   "cell_type": "markdown",
   "metadata": {
    "pycharm": {
     "name": "#%% md\n"
    }
   },
   "source": [
    "We can calculate arrays of cooling rates from the temperature\n",
    "arrays:"
   ]
  },
  {
   "cell_type": "code",
   "execution_count": null,
   "outputs": [],
   "source": [
    "mantle_cooling_rates = analysis.cooling_rate(mantle_temperature_array, timestep)\n",
    "core_cooling_rates = analysis.cooling_rate(core_temperature_array, timestep)"
   ],
   "metadata": {
    "collapsed": false,
    "pycharm": {
     "name": "#%%\n"
    }
   }
  },
  {
   "cell_type": "code",
   "execution_count": 31,
   "metadata": {
    "pycharm": {
     "name": "#%%\n"
    }
   },
   "outputs": [],
   "source": [
    "# mantle_cooling_rates = dT_by_dt\n",
    "# core_cooling_rates = dT_by_dt_core"
   ]
  },
  {
   "cell_type": "markdown",
   "metadata": {
    "pycharm": {
     "name": "#%% md\n"
    }
   },
   "source": [
    "We can use data from meteorites (cloudy-zone particle diameter)\n",
    "to estimate their cooling rates in K/s:"
   ]
  },
  {
   "cell_type": "code",
   "execution_count": null,
   "outputs": [],
   "source": [
    "d_im = 147  # cz diameter in nm\n",
    "d_esq = 158  # cz diameter in nm\n",
    "\n",
    "imilac_cooling_rate = analysis.cooling_rate_to_seconds(\n",
    "    analysis.cooling_rate_cloudyzone_diameter(d_im))\n",
    "esquel_cooling_rate = analysis.cooling_rate_to_seconds(\n",
    "    analysis.cooling_rate_cloudyzone_diameter(d_esq))"
   ],
   "metadata": {
    "collapsed": false,
    "pycharm": {
     "name": "#%%\n"
    }
   }
  },
  {
   "cell_type": "markdown",
   "source": [
    "We can use this cooling rate information to find out how\n",
    "deep these meteorites originally formed, and when they passed\n",
    "through the temperature of tetrataenite formation (when magnetism\n",
    "can be recorded):"
   ],
   "metadata": {
    "collapsed": false,
    "pycharm": {
     "name": "#%% md\n"
    }
   }
  },
  {
   "cell_type": "code",
   "execution_count": null,
   "outputs": [],
   "source": [
    "im_depth, im_x, im_time_core_frozen, im_Time_of_Crossing, im_Critical_Radius = analysis.meteorite_depth_and_timing(\n",
    "    imilac_cooling_rate,\n",
    "    mantle_temperature_array,\n",
    "    mantle_cooling_rates,\n",
    "    radii,\n",
    "    r_planet,\n",
    "    core_size_factor,\n",
    "    time_core_frozen,\n",
    "    fully_frozen,\n",
    "    dr=1000,\n",
    ")\n",
    "\n",
    "esq_depth, esq_x, esq_time_core_frozen, esq_Time_of_Crossing, esq_Critical_Radius = analysis.meteorite_depth_and_timing(\n",
    "    esquel_cooling_rate,\n",
    "    mantle_temperature_array,\n",
    "    mantle_cooling_rates,\n",
    "    radii,\n",
    "    r_planet,\n",
    "    core_size_factor,\n",
    "    time_core_frozen,\n",
    "    fully_frozen,\n",
    "    dr=1000,\n",
    ")\n",
    "\n",
    "meteorite_results_dict = { 'Esq results':\n",
    "                               {'depth': esq_depth,\n",
    "                                'text result': esq_x},\n",
    "                           'Im results':\n",
    "                               {'depth' : im_depth,\n",
    "                                'text result': im_x,\n",
    "                                'critical radius': im_Critical_Radius}}"
   ],
   "metadata": {
    "collapsed": false,
    "pycharm": {
     "name": "#%%\n"
    }
   }
  },
  {
   "cell_type": "markdown",
   "metadata": {
    "pycharm": {
     "name": "#%% md\n"
    }
   },
   "source": [
    "We can print out this information:"
   ]
  },
  {
   "cell_type": "code",
   "execution_count": null,
   "outputs": [],
   "source": [
    "print(f\"Imilac depth: {im_depth}; Imilac timing: {im_x}\")\n",
    "print(f\"Esquel depth: {esq_depth}; Esquel timing: {esq_x}\")"
   ],
   "metadata": {
    "collapsed": false,
    "pycharm": {
     "name": "#%%\n"
    }
   }
  },
  {
   "cell_type": "markdown",
   "metadata": {
    "pycharm": {
     "name": "#%% md\n"
    }
   },
   "source": [
    "We can plot the cooling history of the planetesimal:"
   ]
  },
  {
   "cell_type": "code",
   "execution_count": null,
   "outputs": [],
   "source": [
    "# define the figure height and width:\n",
    "\n",
    "fig_w = 6\n",
    "fig_h = 9\n",
    "\n",
    "load_plot_save.two_in_one(\n",
    "    fig_w,\n",
    "    fig_h,\n",
    "    mantle_temperature_array,\n",
    "    core_temperature_array,\n",
    "    mantle_cooling_rates,\n",
    "    core_cooling_rates,)"
   ],
   "metadata": {
    "collapsed": false,
    "pycharm": {
     "name": "#%%\n"
    }
   }
  },
  {
   "cell_type": "markdown",
   "metadata": {
    "pycharm": {
     "name": "#%% md\n"
    }
   },
   "source": [
    "The results can then be saved to the folder specified earlier,\n",
    "in the form of a `json` file with parameters and meteorite results,\n",
    "and/or as compressed numpy arrays of temperatures and cooling rates\n",
    "(which can be loaded and analysed at a later point).\n",
    "\n",
    "The `json` results file is in the same format as the input\n",
    "parameters file, and can be loaded to reproduce the same model run.\n",
    "\n",
    "To save the results, run:\n",
    "\n",
    "```python\n",
    "result_filename = 'workflow_results1'\n",
    "\n",
    "load_plot_save.save_params_and_results(result_filename, run_ID, folder, timestep, r_planet, core_size_factor,\n",
    "                        reg_fraction, max_time, temp_core_melting, olivine_cp,\n",
    "                        olivine_density, cmb_conductivity, core_cp, core_density,\n",
    "                        temp_init, temp_surface, core_temp_init, core_latent_heat,\n",
    "                        kappa_reg, dr, cond_constant, density_constant,\n",
    "                        heat_cap_constant, time_core_frozen, fully_frozen,\n",
    "                        meteorite_results=meteorite_results_dict)\n",
    "\n",
    "\n",
    "load_plot_save.save_result_arrays(result_filename,\n",
    "                       folder,\n",
    "                       mantle_temperature_array,\n",
    "                       core_temperature_array,\n",
    "                       mantle_cooling_rates,\n",
    "                       core_cooling_rates)\n",
    "```\n"
   ]
  },
  {
   "cell_type": "code",
   "execution_count": null,
   "outputs": [],
   "source": [],
   "metadata": {
    "collapsed": false,
    "pycharm": {
     "name": "#%%\n"
    }
   }
  }
 ],
 "metadata": {
  "kernelspec": {
   "display_name": "Python 3",
   "language": "python",
   "name": "python3"
  },
  "language_info": {
   "codemirror_mode": {
    "name": "ipython",
    "version": 3
   },
   "file_extension": ".py",
   "mimetype": "text/x-python",
   "name": "python",
   "nbconvert_exporter": "python",
   "pygments_lexer": "ipython3",
   "version": "3.8.8"
  }
 },
 "nbformat": 4,
 "nbformat_minor": 1
}